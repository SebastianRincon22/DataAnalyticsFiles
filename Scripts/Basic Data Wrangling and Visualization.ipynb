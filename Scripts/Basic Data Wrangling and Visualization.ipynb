{
 "cells": [
  {
   "cell_type": "markdown",
   "metadata": {},
   "source": [
    "The first step is to import the Library **pandas** which will help us with the data manipulation and analysis."
   ]
  },
  {
   "cell_type": "code",
   "execution_count": null,
   "metadata": {},
   "outputs": [],
   "source": [
    "import pandas as pd"
   ]
  },
  {
   "cell_type": "markdown",
   "metadata": {},
   "source": [
    "Let´s import the **Montreal Canadiens** csv file into a pandas dataframe:"
   ]
  },
  {
   "cell_type": "code",
   "execution_count": null,
   "metadata": {},
   "outputs": [],
   "source": [
    "moncan = pd.read_csv('montrealCanadiensScoring-1960.csv')\n",
    "moncan"
   ]
  },
  {
   "cell_type": "markdown",
   "metadata": {},
   "source": [
    "Calculate the **total goals** for all players combined and output to the console."
   ]
  },
  {
   "cell_type": "code",
   "execution_count": null,
   "metadata": {},
   "outputs": [],
   "source": [
    "totalgoals = moncan['G'].sum()\n",
    "print('Total Goals Combined:',totalgoals)"
   ]
  },
  {
   "cell_type": "markdown",
   "metadata": {},
   "source": [
    "Now, we calculate the **mean** for the variable '+/-'"
   ]
  },
  {
   "cell_type": "code",
   "execution_count": null,
   "metadata": {},
   "outputs": [],
   "source": [
    "mean_plus_minus = moncan['+/-'].mean()\n",
    "print(\"Mean +/- for the team:\", mean_plus_minus)"
   ]
  },
  {
   "cell_type": "markdown",
   "metadata": {},
   "source": [
    "Calculate the mean for the pp (penalty minutes) for the team and output to the console."
   ]
  },
  {
   "cell_type": "code",
   "execution_count": null,
   "metadata": {},
   "outputs": [],
   "source": [
    "meanpp = moncan['PP'].mean()\n",
    "print('Mean of penalty minutes for the season:',meanpp)"
   ]
  },
  {
   "cell_type": "markdown",
   "metadata": {},
   "source": [
    "Generate an array of shooting percentages for all players on the team and output the array to the console. "
   ]
  },
  {
   "cell_type": "code",
   "execution_count": null,
   "metadata": {},
   "outputs": [],
   "source": [
    "shooting_percentage = (moncan['G'] / moncan['S']) * 100\n",
    "print(\"Shooting percentages for all players on the team:\")\n",
    "print(shooting_percentage)"
   ]
  },
  {
   "cell_type": "markdown",
   "metadata": {},
   "source": [
    "Create an array of the average of points per game for each player and output to the console.\\\n",
    "**The calculation involves adding up the number of goals and assists and divide it by the games played by each player**"
   ]
  },
  {
   "cell_type": "code",
   "execution_count": null,
   "metadata": {},
   "outputs": [],
   "source": [
    "averagepoints = (moncan['G'] + moncan['A'])/(moncan['GP'])\n",
    "print(\"Average number of points per game for each player:\")\n",
    "print(averagepoints)"
   ]
  },
  {
   "cell_type": "markdown",
   "metadata": {},
   "source": [
    "## Part 2"
   ]
  },
  {
   "cell_type": "markdown",
   "metadata": {},
   "source": [
    "Combine the data from all 6 team CSV files into one DataFrame."
   ]
  },
  {
   "cell_type": "code",
   "execution_count": null,
   "metadata": {},
   "outputs": [],
   "source": [
    "files = ['BostonBruinsScoring-1960.csv', 'ChicagoBlackHawksScoring-1960.csv', 'DetroitRedWingsScoring-1960.csv', 'montrealCanadiensScoring-1960.csv', 'NewYorkRangersScoring-1960.csv', 'TorontoMapleLeafsScoring-1960.csv']"
   ]
  },
  {
   "cell_type": "markdown",
   "metadata": {},
   "source": [
    "Create an empty list to contain all the dataframes that will be combined."
   ]
  },
  {
   "cell_type": "code",
   "execution_count": null,
   "metadata": {},
   "outputs": [],
   "source": [
    "DFlist = []"
   ]
  },
  {
   "cell_type": "markdown",
   "metadata": {},
   "source": [
    "In order to insert the lists in one single list we need to create a loop that goes through each file path, then read each csv file and finally append them to create the whole dataset. "
   ]
  },
  {
   "cell_type": "code",
   "execution_count": null,
   "metadata": {},
   "outputs": [],
   "source": [
    "for file in files:\n",
    "    df = pd.read_csv(file)\n",
    "    DFlist.append(df)"
   ]
  },
  {
   "cell_type": "markdown",
   "metadata": {},
   "source": [
    "Finally, we concatenate all DataFrames in the dfs list into one dataframe"
   ]
  },
  {
   "cell_type": "code",
   "execution_count": null,
   "metadata": {},
   "outputs": [],
   "source": [
    "DFcomplete = pd.concat(DFlist, ignore_index=True)\n",
    "DFcomplete"
   ]
  },
  {
   "cell_type": "markdown",
   "metadata": {},
   "source": [
    "Create a new column in the DataFrame called \"Points\" which is the total goals and assists for each player."
   ]
  },
  {
   "cell_type": "code",
   "execution_count": null,
   "metadata": {},
   "outputs": [],
   "source": [
    "DFcomplete['Points'] = DFcomplete['G'] + DFcomplete['A']\n",
    "DFcomplete"
   ]
  },
  {
   "cell_type": "code",
   "execution_count": null,
   "metadata": {},
   "outputs": [],
   "source": [
    "DFcomplete1 = DFcomplete.dropna()"
   ]
  },
  {
   "cell_type": "code",
   "execution_count": null,
   "metadata": {},
   "outputs": [],
   "source": [
    "DFcomplete_sorted = DFcomplete1.sort_values(by='Points', ascending=False)\n",
    "DFcomplete_sorted"
   ]
  },
  {
   "cell_type": "markdown",
   "metadata": {},
   "source": [
    "Output the top 20 leaders in points to the console. Display all columns of the DataFrame."
   ]
  },
  {
   "cell_type": "code",
   "execution_count": null,
   "metadata": {},
   "outputs": [],
   "source": [
    "print(\"Top 20 leaders in points:\")\n",
    "DFcomplete_sorted.head(20)"
   ]
  },
  {
   "cell_type": "markdown",
   "metadata": {},
   "source": [
    "## Part 3"
   ]
  },
  {
   "cell_type": "markdown",
   "metadata": {},
   "source": [
    "First of all we need to import the library that will allow us to create graphics:"
   ]
  },
  {
   "cell_type": "code",
   "execution_count": null,
   "metadata": {},
   "outputs": [],
   "source": [
    "import matplotlib as mpl\n",
    "import matplotlib.pyplot as plt\n",
    "import pandas as pd"
   ]
  },
  {
   "cell_type": "markdown",
   "metadata": {},
   "source": [
    "Read the csv files and create individual variables and create a new column in each dataframe called 'Team' that will contain the name of the team and will facilitate the process of identifying which is the team of each player and thus create a method to calculate the **total goals by team**."
   ]
  },
  {
   "cell_type": "code",
   "execution_count": null,
   "metadata": {},
   "outputs": [],
   "source": [
    "Boston = pd.read_csv('BostonBruinsScoring-1960.csv')\n",
    "Boston['Team']='Boston Bruisers'\n",
    "Chicago = pd.read_csv('ChicagoBlackHawksScoring-1960.csv')\n",
    "Chicago['Team']='Chicago Black Hawks'\n",
    "Detroit = pd.read_csv('DetroitRedWingsScoring-1960.csv')\n",
    "Detroit['Team']='Detroit Red Wings'\n",
    "Montreal = pd.read_csv('montrealCanadiensScoring-1960.csv')\n",
    "Montreal['Team']='Montreal Canadien' \n",
    "Newyork = pd.read_csv('NewYorkRangersScoring-1960.csv')\n",
    "Newyork['Team']='New York Rangers' \n",
    "Toronto = pd.read_csv('TorontoMapleLeafsScoring-1960.csv')\n",
    "Toronto['Team']='Toronto Maple Leafs'"
   ]
  },
  {
   "cell_type": "markdown",
   "metadata": {},
   "source": [
    "The next step is creating a new dataframe that contain the data for each team."
   ]
  },
  {
   "cell_type": "code",
   "execution_count": null,
   "metadata": {},
   "outputs": [],
   "source": [
    "Teams = pd.concat([Boston, Chicago, Detroit, Montreal, Newyork, Toronto])\n",
    "Teams"
   ]
  },
  {
   "cell_type": "code",
   "execution_count": null,
   "metadata": {},
   "outputs": [],
   "source": [
    "Goals = Teams.groupby('Team')['G'].sum().reset_index()\n",
    "Goals"
   ]
  },
  {
   "cell_type": "markdown",
   "metadata": {},
   "source": [
    "Sorting the data to show in ascending order the toal goals for each team."
   ]
  },
  {
   "cell_type": "code",
   "execution_count": null,
   "metadata": {},
   "outputs": [],
   "source": [
    "Goals_total = Goals.sort_values(by = [\"G\"],ascending=[False])\n",
    "Goals_total"
   ]
  },
  {
   "cell_type": "markdown",
   "metadata": {},
   "source": [
    "Now we create the bar chart for the total goals by team:"
   ]
  },
  {
   "cell_type": "code",
   "execution_count": null,
   "metadata": {},
   "outputs": [],
   "source": [
    "# Extracting data\n",
    "teams = Goals_total['Team']\n",
    "goals = Goals_total['G']\n",
    "\n",
    "# Plotting the bar graph\n",
    "plt.figure(figsize=(10, 6))\n",
    "plt.bar(teams, goals, color='maroon', width=0.4)\n",
    "plt.xlabel('Team')\n",
    "plt.ylabel('Total Goals')\n",
    "plt.title('Total Goals by Team')\n",
    "plt.xticks(rotation=45, ha='right')\n",
    "plt.tight_layout()\n",
    "plt.show()"
   ]
  },
  {
   "cell_type": "markdown",
   "metadata": {},
   "source": [
    "Save the figure:"
   ]
  },
  {
   "cell_type": "code",
   "execution_count": null,
   "metadata": {},
   "outputs": [],
   "source": [
    "plt.savefig('total_team_goals.jpg')"
   ]
  },
  {
   "cell_type": "markdown",
   "metadata": {},
   "source": [
    "Create the bar chart with the average age for each team:"
   ]
  },
  {
   "cell_type": "code",
   "execution_count": null,
   "metadata": {},
   "outputs": [],
   "source": [
    "AVGage = Teams.groupby('Team')['Age'].mean().reset_index()\n",
    "AVGage"
   ]
  },
  {
   "cell_type": "markdown",
   "metadata": {},
   "source": [
    "Sort the table:"
   ]
  },
  {
   "cell_type": "code",
   "execution_count": null,
   "metadata": {},
   "outputs": [],
   "source": [
    "AVGage_sorted = AVGage.sort_values(by = [\"Age\"],ascending=[False])\n",
    "AVGage_sorted"
   ]
  },
  {
   "cell_type": "code",
   "execution_count": null,
   "metadata": {},
   "outputs": [],
   "source": [
    "# Extracting data\n",
    "teams = AVGage_sorted['Team']\n",
    "Average_age = AVGage_sorted['Age']\n",
    "\n",
    "# Plotting the bar graph\n",
    "plt.figure(figsize=(10, 6))\n",
    "plt.bar(teams, Average_age, color='maroon', width=0.4)\n",
    "plt.xlabel('Team')\n",
    "plt.ylabel('Average Age')\n",
    "plt.title('Average age by team')\n",
    "plt.xticks(rotation=45, ha='right')\n",
    "plt.tight_layout()\n",
    "plt.show()"
   ]
  },
  {
   "cell_type": "code",
   "execution_count": null,
   "metadata": {},
   "outputs": [],
   "source": [
    "plt.savefig('average_age.jpg')"
   ]
  },
  {
   "cell_type": "code",
   "execution_count": null,
   "metadata": {},
   "outputs": [],
   "source": []
  }
 ],
 "metadata": {
  "kernelspec": {
   "display_name": "Python 3",
   "language": "python",
   "name": "python3"
  },
  "language_info": {
   "codemirror_mode": {
    "name": "ipython",
    "version": 3
   },
   "file_extension": ".py",
   "mimetype": "text/x-python",
   "name": "python",
   "nbconvert_exporter": "python",
   "pygments_lexer": "ipython3",
   "version": "3.11.1"
  }
 },
 "nbformat": 4,
 "nbformat_minor": 2
}
